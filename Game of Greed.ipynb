{
 "cells": [
  {
   "cell_type": "markdown",
   "metadata": {},
   "source": [
    "**1.We will be using the random module to simulate dice rolls in this game. Import the random module.**"
   ]
  },
  {
   "cell_type": "code",
   "execution_count": 1,
   "metadata": {},
   "outputs": [],
   "source": []
  },
  {
   "cell_type": "markdown",
   "metadata": {},
   "source": [
    "**2. Global variables are used to keep track of the game state. Initalize four global variables: \\\n",
    "overallScore (int) to 0** _#overallScore tracks the overall score of the game_ \\\n",
    "**currentScore (int) to 0** _#currentScore tracks the score of each individual round_ \\\n",
    "**isGameOver (bool) to False** _#isGameOver tracks if the game is over_ \\\n",
    "**tokens (int) to 3** _#tokens tracks the number of rounds remaining_ "
   ]
  },
  {
   "cell_type": "code",
   "execution_count": 2,
   "metadata": {},
   "outputs": [],
   "source": []
  },
  {
   "cell_type": "markdown",
   "metadata": {},
   "source": [
    "**3. Write a function rollDie( ), which takes no parameters, and returns a random integer between 1 and 6 (inclusive) to simulate a dice roll.** \\\n",
    "The probability of generating any number in that domain should be equal."
   ]
  },
  {
   "cell_type": "code",
   "execution_count": 3,
   "metadata": {},
   "outputs": [],
   "source": []
  },
  {
   "cell_type": "markdown",
   "metadata": {},
   "source": [
    "**4. Write a function, gameOver( ), which takes no parameters, and updates the global isGameOver variable to let the game state know the game is over. Then, print a statement letting the user know the game is over and what their final score is.**"
   ]
  },
  {
   "cell_type": "code",
   "execution_count": 4,
   "metadata": {},
   "outputs": [],
   "source": []
  },
  {
   "cell_type": "markdown",
   "metadata": {},
   "source": [
    "**5. Write a function, newGame( ), which takes no parameters, and reinitalizes the global variables to their respective starting values (see #2). Then, print a statement notifying the user a new game has started and call the newRound( ) function.** Assume the newRound( ) function has been written correctly for this step."
   ]
  },
  {
   "cell_type": "code",
   "execution_count": 5,
   "metadata": {},
   "outputs": [],
   "source": []
  },
  {
   "cell_type": "markdown",
   "metadata": {},
   "source": [
    "**6. Write a function, newRound( ), which takes no parameters, and updates the global token and currentScore variables appropriately. Then, print a statement informin the user that a new round has started and what their starting score for the round is.**"
   ]
  },
  {
   "cell_type": "code",
   "execution_count": 6,
   "metadata": {},
   "outputs": [],
   "source": []
  },
  {
   "cell_type": "markdown",
   "metadata": {},
   "source": [
    "**7. Write a function, rollAgain( ), which takes no parameters, and generates the value of a random dice roll, which is stored into a variable; then, print a statement informing the user of the value of the dice roll. \\\n",
    " \\\n",
    "Afterwards, create a flow structure:**\n",
    "- **if the roll isn't a 2, update the global currentScore variable and print out a statement informing the user of their new round score**\n",
    "- **if the roll is a 2, print a statement informing the user that their round ends immediately and their round score becomes a 0. Then, print a statement stating their current score of the overall game.**\n",
    "\n",
    "    **Within the flow structure for the case when the roll is a 2, create a sub-flow structure:** \n",
    "    - **if there are no tokens left, call the gameOver( ) function.**\n",
    "    - **otherwise, call the newRound( ) function.**\n"
   ]
  },
  {
   "cell_type": "code",
   "execution_count": 7,
   "metadata": {},
   "outputs": [],
   "source": []
  },
  {
   "cell_type": "markdown",
   "metadata": {},
   "source": [
    "**8. Call the newGame( ) function to initalize a new game.**"
   ]
  },
  {
   "cell_type": "code",
   "execution_count": 8,
   "metadata": {},
   "outputs": [
    {
     "name": "stdout",
     "output_type": "stream",
     "text": [
      "New Game Started!\n",
      "Token inserted!\n",
      "New Round! Starting Current Score: 5\n"
     ]
    }
   ],
   "source": []
  },
  {
   "cell_type": "markdown",
   "metadata": {},
   "source": [
    "A while True loop is used to rerun the code an infinite amount of times until the user decides to exit the loop. However, you may encounter your program to be stuck in a state which never stops. If this happens, don't freak! Click the \"Kernel\" tab and click \"Interrupt\" to stop the inifite loop.\n",
    "\n",
    "**9. Inside the while loop, start by prompting the user to input an action; convert this input to upper case using the .upper( ) command and store this input in a variable called userInput. \\\n",
    "\\\n",
    "Then, create a flow structure that does the following:**\n",
    "- **if the userInput equals \"STOP\", print a statement that informs the user that the Game of Greed program has stopped running. Then, use the _break_ command to break out of the while loop and stop the program.**\n",
    "- **else if the user inputs \"N\", create a sub-flow structure:** \n",
    "    - **if the game is not over, print a statement informing the user there is already an active game.**\n",
    "    - **otherwise, start a new game.**\n",
    "- **else if the game is already over, print a statement informing the user of that.**\n",
    "- **else if the user inputs \"R\", roll another die and perform all actions associated with that.**\n",
    "- **else if the user inputs \"S\", print a statement that informs the user that their current round score of [insert score] has been added to their overall game score; then, print a statement informing them of their new overall game score. Afterwards, create a sub-flow structure:**\n",
    "    - **if there are no tokens left, call the gameOver( ) function.**\n",
    "    - **otherwise, call the newRound( ) function.**"
   ]
  },
  {
   "cell_type": "code",
   "execution_count": 9,
   "metadata": {},
   "outputs": [
    {
     "name": "stdout",
     "output_type": "stream",
     "text": [
      "\n",
      "  Action? STOP\n",
      "Game of Greed has stopped running!\n"
     ]
    }
   ],
   "source": []
  },
  {
   "cell_type": "markdown",
   "metadata": {},
   "source": [
    "# **Congratulations! If you have correctly done all the steps, your Game of Greed program should be fully functional!**"
   ]
  }
 ],
 "metadata": {
  "kernelspec": {
   "display_name": "Python 3",
   "language": "python",
   "name": "python3"
  },
  "language_info": {
   "codemirror_mode": {
    "name": "ipython",
    "version": 3
   },
   "file_extension": ".py",
   "mimetype": "text/x-python",
   "name": "python",
   "nbconvert_exporter": "python",
   "pygments_lexer": "ipython3",
   "version": "3.7.4"
  }
 },
 "nbformat": 4,
 "nbformat_minor": 2
}
